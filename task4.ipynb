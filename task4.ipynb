{
 "cells": [
  {
   "cell_type": "markdown",
   "id": "3c85e802",
   "metadata": {},
   "source": [
    "## Image to Pencil Sketch with Python"
   ]
  },
  {
   "cell_type": "markdown",
   "id": "b6956f88",
   "metadata": {},
   "source": [
    "## Task4"
   ]
  },
  {
   "cell_type": "code",
   "execution_count": 1,
   "id": "21707415",
   "metadata": {},
   "outputs": [
    {
     "name": "stdout",
     "output_type": "stream",
     "text": [
      "Requirement already satisfied: opencv-python in c:\\users\\mahim\\anaconda3\\lib\\site-packages (4.7.0.72)\n",
      "Requirement already satisfied: numpy>=1.19.3 in c:\\users\\mahim\\anaconda3\\lib\\site-packages (from opencv-python) (1.22.4)\n",
      "Note: you may need to restart the kernel to use updated packages.\n"
     ]
    }
   ],
   "source": [
    "pip install opencv-python"
   ]
  },
  {
   "cell_type": "code",
   "execution_count": 3,
   "id": "a7e7981a",
   "metadata": {},
   "outputs": [
    {
     "data": {
      "text/plain": [
       "-1"
      ]
     },
     "execution_count": 3,
     "metadata": {},
     "output_type": "execute_result"
    }
   ],
   "source": [
    "import cv2\n",
    "\n",
    "# read the image\n",
    "img = cv2.imread('Cute-Dog-Images.jpg')\n",
    "\n",
    "# convert the image to grayscale\n",
    "gray_img = cv2.cvtColor(img, cv2.COLOR_BGR2GRAY)\n",
    "\n",
    "# invert the grayscale image\n",
    "inv_gray_img = 255 - gray_img\n",
    "\n",
    "# apply Gaussian blur to the inverted grayscale image\n",
    "blur_img = cv2.GaussianBlur(inv_gray_img, (21, 21), 0)\n",
    "\n",
    "# divide the grayscale image by the inverted blurry image\n",
    "sketch_img = cv2.divide(gray_img, 255 - blur_img, scale=256)\n",
    "\n",
    "# display the original and sketch image side by side\n",
    "cv2.imshow(\"Original Image\", img)\n",
    "cv2.imshow(\"Pencil Sketch\", sketch_img)\n",
    "cv2.waitKey(0)"
   ]
  }
 ],
 "metadata": {
  "kernelspec": {
   "display_name": "Python 3 (ipykernel)",
   "language": "python",
   "name": "python3"
  },
  "language_info": {
   "codemirror_mode": {
    "name": "ipython",
    "version": 3
   },
   "file_extension": ".py",
   "mimetype": "text/x-python",
   "name": "python",
   "nbconvert_exporter": "python",
   "pygments_lexer": "ipython3",
   "version": "3.9.12"
  }
 },
 "nbformat": 4,
 "nbformat_minor": 5
}
